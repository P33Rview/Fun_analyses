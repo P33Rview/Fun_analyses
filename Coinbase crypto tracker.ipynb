{
 "cells":[
  {
   "cell_type":"markdown",
   "source":[
    "# Crypto"
   ],
   "attachments":{
    
   },
   "metadata":{
    "datalore":{
     "node_id":"Crypto",
     "type":"MD",
     "hide_input_from_viewers":false,
     "hide_output_from_viewers":false,
     "sheet_delimiter":true
    }
   }
  },
  {
   "cell_type":"markdown",
   "source":[
    "## Welcome to your Coinbase Crypto Tracker! 🚀📈\n",
    "\n",
    "Track your gains across diverse assets and stay ahead in the exciting world of cryptocurrencies."
   ],
   "attachments":{
    
   },
   "metadata":{
    "datalore":{
     "node_id":"7ZyGimXS9bhmkfClBqCdmU",
     "type":"MD",
     "hide_input_from_viewers":false,
     "hide_output_from_viewers":false,
     "report_properties":{
      "rowId":"Jg8diuR4Qd1tFhvIqrOJ3g",
      "x":0,
      "relativeY":0,
      "width":1,
      "height":7,
      "isDynamicHeight":false
     }
    }
   }
  },
  {
   "cell_type":"code",
   "source":[
    
   ],
   "execution_count":0,
   "outputs":[
    
   ],
   "metadata":{
    "datalore":{
     "node_id":"D1ttkUJRcmfS9WWWzqHTHp",
     "type":"UPLOAD",
     "hide_input_from_viewers":true,
     "hide_output_from_viewers":true,
     "upload_cell_state":{
      "label":"Upload your Coinbase file",
      "extensions":"",
      "fileName":"coinbase_statement",
      "maxSize":10
     }
    }
   }
  },
  {
   "cell_type":"code",
   "source":[
    "# -- LIBRARIES\n",
    "import pandas as pd\n",
    "import numpy as np\n",
    "import requests\n",
    "import os\n",
    "import json\n",
    "import pprint\n",
    "import pprint\n",
    "import time\n",
    "import seaborn as sns\n",
    "import matplotlib.pyplot as plt\n",
    "import plotly.express as px\n",
    "\n",
    "from requests import Request, Session\n",
    "from requests.exceptions import ConnectionError, Timeout, TooManyRedirects\n",
    "\n",
    "# Ignoring the Deprecation Warning\n",
    "import warnings\n",
    "warnings.filterwarnings(\"ignore\", category=DeprecationWarning)\n",
    "\n",
    "# -- FUNCTIONS\n",
    "def prepareData():\n",
    "    \n",
    "    \"\"\"Imports and cleans the file downloaded from Coinbase\n",
    "        \n",
    "        Output:\n",
    "            DataFrame containing Coinbase transactions \n",
    "        \"\"\"\n",
    "    \n",
    "    # Importing the data from Coinbase\n",
    "    transactions = pd.read_csv('\/data\/notebook_files\/coinbase_statement', skiprows=3)\n",
    "    \n",
    "    # Removing spaces and lowercasing the column names\n",
    "    transactions.columns = (transactions.columns\n",
    "                            .str.lower()\n",
    "                            .str.replace(\" \",\"_\"))\n",
    "    \n",
    "    # Adding date column and dropping unwanted cols\n",
    "    transactions.drop(columns=['notes'], inplace=True)\n",
    "    transactions['timestamp'] = pd.to_datetime(transactions['timestamp'])\n",
    "    transactions['date'] = transactions['timestamp'].dt.date\n",
    "    \n",
    "    # Replacing the ETH2 to ETH\n",
    "    transactions['asset'] = transactions['asset'].replace('ETH2', 'ETH')\n",
    "\n",
    "    # Keeping only Staking Income and Buy transaction types\n",
    "    trans_val = ['Buy']\n",
    "    transactions = transactions[transactions.transaction_type.isin(trans_val)]\n",
    "\n",
    "    return(transactions)\n",
    "\n",
    "def callCryptoPrice(crypto: list, curr: str):\n",
    "\n",
    "    \"\"\"Calls the CoinMarketCap API to return the current crypto assets price\n",
    "        \n",
    "        Input: \n",
    "            crypto = list of all crypto assets that we want the price for\n",
    "            curr = currency of the assets (EUR, CZK, USD, etc.)\n",
    "        \n",
    "        Output:\n",
    "            DataFrame containing current asset prices\n",
    "    \"\"\"\n",
    "\n",
    "    # Coinmarketcap API URL\n",
    "    url_crypto = 'https:\/\/pro-api.coinmarketcap.com\/v1\/cryptocurrency\/quotes\/latest' \n",
    "    \n",
    "    # Headers for the API request\n",
    "    headers = {\n",
    "        'Accepts': 'application\/json',\n",
    "        'X-CMC_PRO_API_KEY': os.environ['coinmarket_api']\n",
    "    } \n",
    "    # Create new session object to manage API requests\n",
    "    session = Session() \n",
    "    \n",
    "    # Update the session headers with the specified headers\n",
    "    session.headers.update(headers) \n",
    "\n",
    "    # Creating an empty DataFrame\n",
    "    coins_info = pd.DataFrame(columns=['coin', 'time_stamp', 'currency',\n",
    "                                       'price', 'percent_change_24h', 'percent_change_30d'])\n",
    "    \n",
    "    # Loop through all coins in the list\n",
    "    for coin in crypto:\n",
    "        # API parameters to pass in for retrieving specific cryptocurrency data\n",
    "        parameters = {'symbol': coin, 'convert': curr} \n",
    "\n",
    "        # Receiving the response from the API\n",
    "        response = session.get(url_crypto, params=parameters) \n",
    "\n",
    "        # Extracting the coin ID from the JSON output\n",
    "        info = json.loads(response.text)\n",
    "        data_coinmarket = info['data'][coin]['quote'][curr]\n",
    "\n",
    "        # Defining the values for each coin i.e. the price and timestamp of the last updated price\n",
    "        time_stamp = data_coinmarket['last_updated']\n",
    "        currency = curr\n",
    "        price = data_coinmarket['price']\n",
    "        percent_change_24h = round(data_coinmarket['percent_change_24h'], 2)\n",
    "        percent_change_30d = round(data_coinmarket['percent_change_30d'], 2)\n",
    "        \n",
    "        # Combining all the values into a list and transforming it into a dataframe\n",
    "        help_list = [[coin, time_stamp, currency, price, percent_change_24h, percent_change_30d]]\n",
    "        help_df = pd.DataFrame(help_list, columns=['coin', 'time_stamp', 'currency',\n",
    "                                                   'price', 'percent_change_24h', 'percent_change_30d'])\n",
    "        coins_info = pd.concat([help_df, coins_info])\n",
    "    \n",
    "    return(coins_info)\n",
    "\n",
    "def mergingDataFrames():\n",
    "\n",
    "    \"\"\"Joins the Coinbase transactions file and the current price of crypto assets\n",
    "        \n",
    "        Output:\n",
    "            DataFrame containing crypto transactions and their current price\n",
    "    \"\"\"\n",
    "\n",
    "    #Setting up the list of all cryptos that we want to request the price for from the API\n",
    "    joined_data = (prepareData()\n",
    "                   .merge(callCryptoPrice(('ETH', 'BTC', 'ADA', 'DOT', 'SOL'), 'EUR')\n",
    "                                  , how='left', left_on='asset', right_on='coin'))\n",
    "    joined_data.dropna(inplace=True)\n",
    "    \n",
    "    return(joined_data)\n",
    "\n",
    "def dataSummary():\n",
    "    \n",
    "    \"\"\"Calculates all important metric values. Such as profit, total invested amount, etc.\n",
    "        \n",
    "        Output:\n",
    "            total_profit = current profit from the invested amount\n",
    "            total_profit_per = percentage current profit from the invested amount \n",
    "            total_value = invested amount into all crypto assets\n",
    "    \"\"\"\n",
    "\n",
    "    # Dropping unwanted columns\n",
    "    final_data = mergingDataFrames().drop(columns=['transaction_type','coin','time_stamp'])\n",
    "\n",
    "    # Creating fraction price variables\n",
    "    final_data['current_fraction_price'] = final_data['price'] * final_data['quantity_transacted']\n",
    "    final_data['bought_amount'] = final_data['spot_price_at_transaction'] * final_data['quantity_transacted']\n",
    "\n",
    "    # Calculating profit\n",
    "    final_data['profit'] = (final_data['current_fraction_price']\n",
    "                            - final_data['bought_amount']\n",
    "                            - (final_data['fees_and\/or_spread']\/24.62))\n",
    "    \n",
    "    # Summary dataframe\n",
    "    summary = (final_data\n",
    "            .groupby('asset')\n",
    "            .agg({'quantity_transacted':'sum', 'bought_amount':'sum', 'profit':'sum'})\n",
    "            .round(2)\n",
    "            .reset_index()\n",
    "            .sort_values(by='profit', ascending=False))\n",
    "    summary['profit_in_pct'] = round((summary['profit'] \/ summary['bought_amount']) * 100, 2).astype(str) + ' %'\n",
    "\n",
    "    # Creating statistics\n",
    "    total_profit = round(sum(summary['profit']), 2)\n",
    "    total_bought = round(sum(final_data['bought_amount']), 2)\n",
    "    total_value = total_bought + total_profit\n",
    "    total_profit_per = round((total_profit\/total_bought) * 100, 2)\n",
    "        \n",
    "    return total_profit, total_value, total_profit_per #summary.reset_index().drop(columns=['index'])\n",
    "\n",
    "def cryptoTable():\n",
    "    \n",
    "    crypto_data = mergingDataFrames().drop(columns=['transaction_type','coin','time_stamp'])\n",
    "\n",
    "    # Creating fraction price variables\n",
    "    crypto_data['current_fraction_price'] = crypto_data['price'] * crypto_data['quantity_transacted']\n",
    "    crypto_data['bought_amount'] = crypto_data['spot_price_at_transaction'] * crypto_data['quantity_transacted']\n",
    "\n",
    "    # Calculating profit\n",
    "    crypto_data['profit'] = (crypto_data['current_fraction_price']\n",
    "                            - crypto_data['bought_amount']\n",
    "                            - (crypto_data['fees_and\/or_spread']\/24.62))\n",
    "\n",
    "    # Summary dataframe\n",
    "    summary = (crypto_data\n",
    "            .groupby('asset')\n",
    "            .agg({'quantity_transacted':'sum', 'bought_amount':'sum', 'profit':'sum'})\n",
    "            .round(2)\n",
    "            .reset_index()\n",
    "            .sort_values(by='profit', ascending=False))\n",
    "    summary['profit_in_pct'] = round((summary['profit'] \/ summary['bought_amount']) * 100, 2).astype(str) + ' %'\n",
    "\n",
    "    return summary.reset_index().drop(columns=['index'])\n",
    "\n",
    "profit, value, profit_per = dataSummary()"
   ],
   "execution_count":1,
   "outputs":[
    
   ],
   "metadata":{
    "datalore":{
     "node_id":"FCiwr66MDw9UeblCFlQcGp",
     "type":"CODE",
     "hide_input_from_viewers":true,
     "hide_output_from_viewers":true
    }
   }
  },
  {
   "cell_type":"code",
   "source":[
    "a = cryptoTable()\n",
    "a"
   ],
   "execution_count":2,
   "outputs":[
    {
     "data":{
      "text\/html":[
       "<div>\n",
       "<style scoped>\n",
       "    .dataframe tbody tr th:only-of-type {\n",
       "        vertical-align: middle;\n",
       "    }\n",
       "\n",
       "    .dataframe tbody tr th {\n",
       "        vertical-align: top;\n",
       "    }\n",
       "\n",
       "    .dataframe thead th {\n",
       "        text-align: right;\n",
       "    }\n",
       "<\/style>\n",
       "<table border=\"1\" class=\"dataframe\">\n",
       "  <thead>\n",
       "    <tr style=\"text-align: right;\">\n",
       "      <th><\/th>\n",
       "      <th>asset<\/th>\n",
       "      <th>quantity_transacted<\/th>\n",
       "      <th>bought_amount<\/th>\n",
       "      <th>profit<\/th>\n",
       "      <th>profit_in_pct<\/th>\n",
       "    <\/tr>\n",
       "  <\/thead>\n",
       "  <tbody>\n",
       "    <tr>\n",
       "      <th>0<\/th>\n",
       "      <td>BTC<\/td>\n",
       "      <td>0.03<\/td>\n",
       "      <td>975.14<\/td>\n",
       "      <td>670.70<\/td>\n",
       "      <td>68.78 %<\/td>\n",
       "    <\/tr>\n",
       "    <tr>\n",
       "      <th>1<\/th>\n",
       "      <td>ETH<\/td>\n",
       "      <td>0.71<\/td>\n",
       "      <td>1536.29<\/td>\n",
       "      <td>554.26<\/td>\n",
       "      <td>36.08 %<\/td>\n",
       "    <\/tr>\n",
       "    <tr>\n",
       "      <th>2<\/th>\n",
       "      <td>SOL<\/td>\n",
       "      <td>1.08<\/td>\n",
       "      <td>82.02<\/td>\n",
       "      <td>72.36<\/td>\n",
       "      <td>88.22 %<\/td>\n",
       "    <\/tr>\n",
       "    <tr>\n",
       "      <th>3<\/th>\n",
       "      <td>DOT<\/td>\n",
       "      <td>25.00<\/td>\n",
       "      <td>218.16<\/td>\n",
       "      <td>-56.68<\/td>\n",
       "      <td>-25.98 %<\/td>\n",
       "    <\/tr>\n",
       "    <tr>\n",
       "      <th>4<\/th>\n",
       "      <td>ADA<\/td>\n",
       "      <td>725.76<\/td>\n",
       "      <td>665.10<\/td>\n",
       "      <td>-355.75<\/td>\n",
       "      <td>-53.49 %<\/td>\n",
       "    <\/tr>\n",
       "  <\/tbody>\n",
       "<\/table>\n",
       "<\/div>"
      ]
     },
     "metadata":{
      
     },
     "output_type":"display_data"
    }
   ],
   "metadata":{
    "datalore":{
     "node_id":"e9KwqI30m9HQcU5OD2HRE2",
     "type":"CODE",
     "hide_input_from_viewers":true,
     "hide_output_from_viewers":true
    }
   }
  },
  {
   "cell_type":"code",
   "source":[
    "import plotly.graph_objects as go\n",
    "\n",
    "current_value = a.bought_amount + a.profit\n",
    "\n",
    "fig = go.Figure(data=[\n",
    "    go.Bar(name=\"Invested amount\", x=a.asset, y=a.bought_amount),\n",
    "    go.Bar(name=\"Current value\", x=a.asset, y=current_value)\n",
    "])\n",
    "\n",
    "fig.update_layout(barmode='group',\n",
    "                  title='Invested Amount in Crypto Assets',\n",
    "                  xaxis=dict(title=\"Assets\"),\n",
    "                  yaxis=dict(title=\"Value (in EUR)\"))\n",
    "fig.update_traces(textfont_size=12, textangle=0, textposition=\"outside\", cliponaxis=False)\n",
    "fig.show()"
   ],
   "execution_count":3,
   "outputs":[
    {
     "data":{
      "application\/vnd.plotly.v1+json":{
       "data":[
        {
         "name":"Invested amount",
         "x":[
          "BTC",
          "ETH",
          "SOL",
          "DOT",
          "ADA"
         ],
         "y":[
          975.14,
          1536.29,
          82.02,
          218.16,
          665.1
         ],
         "type":"bar",
         "textfont":{
          "size":12
         },
         "cliponaxis":false,
         "textangle":0,
         "textposition":"outside"
        },
        {
         "name":"Current value",
         "x":[
          "BTC",
          "ETH",
          "SOL",
          "DOT",
          "ADA"
         ],
         "y":[
          1645.8400000000001,
          2090.55,
          154.38,
          161.48,
          309.35
         ],
         "type":"bar",
         "textfont":{
          "size":12
         },
         "cliponaxis":false,
         "textangle":0,
         "textposition":"outside"
        }
       ],
       "layout":{
        "template":{
         "data":{
          "histogram2dcontour":[
           {
            "type":"histogram2dcontour",
            "colorbar":{
             "outlinewidth":0,
             "ticks":""
            },
            "colorscale":[
             [
              0,
              "#0d0887"
             ],
             [
              0.1111111111111111,
              "#46039f"
             ],
             [
              0.2222222222222222,
              "#7201a8"
             ],
             [
              0.3333333333333333,
              "#9c179e"
             ],
             [
              0.4444444444444444,
              "#bd3786"
             ],
             [
              0.5555555555555556,
              "#d8576b"
             ],
             [
              0.6666666666666666,
              "#ed7953"
             ],
             [
              0.7777777777777778,
              "#fb9f3a"
             ],
             [
              0.8888888888888888,
              "#fdca26"
             ],
             [
              1,
              "#f0f921"
             ]
            ]
           }
          ],
          "choropleth":[
           {
            "type":"choropleth",
            "colorbar":{
             "outlinewidth":0,
             "ticks":""
            }
           }
          ],
          "histogram2d":[
           {
            "type":"histogram2d",
            "colorbar":{
             "outlinewidth":0,
             "ticks":""
            },
            "colorscale":[
             [
              0,
              "#0d0887"
             ],
             [
              0.1111111111111111,
              "#46039f"
             ],
             [
              0.2222222222222222,
              "#7201a8"
             ],
             [
              0.3333333333333333,
              "#9c179e"
             ],
             [
              0.4444444444444444,
              "#bd3786"
             ],
             [
              0.5555555555555556,
              "#d8576b"
             ],
             [
              0.6666666666666666,
              "#ed7953"
             ],
             [
              0.7777777777777778,
              "#fb9f3a"
             ],
             [
              0.8888888888888888,
              "#fdca26"
             ],
             [
              1,
              "#f0f921"
             ]
            ]
           }
          ],
          "heatmap":[
           {
            "type":"heatmap",
            "colorbar":{
             "outlinewidth":0,
             "ticks":""
            },
            "colorscale":[
             [
              0,
              "#0d0887"
             ],
             [
              0.1111111111111111,
              "#46039f"
             ],
             [
              0.2222222222222222,
              "#7201a8"
             ],
             [
              0.3333333333333333,
              "#9c179e"
             ],
             [
              0.4444444444444444,
              "#bd3786"
             ],
             [
              0.5555555555555556,
              "#d8576b"
             ],
             [
              0.6666666666666666,
              "#ed7953"
             ],
             [
              0.7777777777777778,
              "#fb9f3a"
             ],
             [
              0.8888888888888888,
              "#fdca26"
             ],
             [
              1,
              "#f0f921"
             ]
            ]
           }
          ],
          "heatmapgl":[
           {
            "type":"heatmapgl",
            "colorbar":{
             "outlinewidth":0,
             "ticks":""
            },
            "colorscale":[
             [
              0,
              "#0d0887"
             ],
             [
              0.1111111111111111,
              "#46039f"
             ],
             [
              0.2222222222222222,
              "#7201a8"
             ],
             [
              0.3333333333333333,
              "#9c179e"
             ],
             [
              0.4444444444444444,
              "#bd3786"
             ],
             [
              0.5555555555555556,
              "#d8576b"
             ],
             [
              0.6666666666666666,
              "#ed7953"
             ],
             [
              0.7777777777777778,
              "#fb9f3a"
             ],
             [
              0.8888888888888888,
              "#fdca26"
             ],
             [
              1,
              "#f0f921"
             ]
            ]
           }
          ],
          "contourcarpet":[
           {
            "type":"contourcarpet",
            "colorbar":{
             "outlinewidth":0,
             "ticks":""
            }
           }
          ],
          "contour":[
           {
            "type":"contour",
            "colorbar":{
             "outlinewidth":0,
             "ticks":""
            },
            "colorscale":[
             [
              0,
              "#0d0887"
             ],
             [
              0.1111111111111111,
              "#46039f"
             ],
             [
              0.2222222222222222,
              "#7201a8"
             ],
             [
              0.3333333333333333,
              "#9c179e"
             ],
             [
              0.4444444444444444,
              "#bd3786"
             ],
             [
              0.5555555555555556,
              "#d8576b"
             ],
             [
              0.6666666666666666,
              "#ed7953"
             ],
             [
              0.7777777777777778,
              "#fb9f3a"
             ],
             [
              0.8888888888888888,
              "#fdca26"
             ],
             [
              1,
              "#f0f921"
             ]
            ]
           }
          ],
          "surface":[
           {
            "type":"surface",
            "colorbar":{
             "outlinewidth":0,
             "ticks":""
            },
            "colorscale":[
             [
              0,
              "#0d0887"
             ],
             [
              0.1111111111111111,
              "#46039f"
             ],
             [
              0.2222222222222222,
              "#7201a8"
             ],
             [
              0.3333333333333333,
              "#9c179e"
             ],
             [
              0.4444444444444444,
              "#bd3786"
             ],
             [
              0.5555555555555556,
              "#d8576b"
             ],
             [
              0.6666666666666666,
              "#ed7953"
             ],
             [
              0.7777777777777778,
              "#fb9f3a"
             ],
             [
              0.8888888888888888,
              "#fdca26"
             ],
             [
              1,
              "#f0f921"
             ]
            ]
           }
          ],
          "mesh3d":[
           {
            "type":"mesh3d",
            "colorbar":{
             "outlinewidth":0,
             "ticks":""
            }
           }
          ],
          "scatter":[
           {
            "fillpattern":{
             "fillmode":"overlay",
             "size":10,
             "solidity":0.2
            },
            "type":"scatter"
           }
          ],
          "parcoords":[
           {
            "type":"parcoords",
            "line":{
             "colorbar":{
              "outlinewidth":0,
              "ticks":""
             }
            }
           }
          ],
          "scatterpolargl":[
           {
            "type":"scatterpolargl",
            "marker":{
             "colorbar":{
              "outlinewidth":0,
              "ticks":""
             }
            }
           }
          ],
          "bar":[
           {
            "error_x":{
             "color":"#2a3f5f"
            },
            "error_y":{
             "color":"#2a3f5f"
            },
            "marker":{
             "line":{
              "color":"#E5ECF6",
              "width":0.5
             },
             "pattern":{
              "fillmode":"overlay",
              "size":10,
              "solidity":0.2
             }
            },
            "type":"bar"
           }
          ],
          "scattergeo":[
           {
            "type":"scattergeo",
            "marker":{
             "colorbar":{
              "outlinewidth":0,
              "ticks":""
             }
            }
           }
          ],
          "scatterpolar":[
           {
            "type":"scatterpolar",
            "marker":{
             "colorbar":{
              "outlinewidth":0,
              "ticks":""
             }
            }
           }
          ],
          "histogram":[
           {
            "marker":{
             "pattern":{
              "fillmode":"overlay",
              "size":10,
              "solidity":0.2
             }
            },
            "type":"histogram"
           }
          ],
          "scattergl":[
           {
            "type":"scattergl",
            "marker":{
             "colorbar":{
              "outlinewidth":0,
              "ticks":""
             }
            }
           }
          ],
          "scatter3d":[
           {
            "type":"scatter3d",
            "line":{
             "colorbar":{
              "outlinewidth":0,
              "ticks":""
             }
            },
            "marker":{
             "colorbar":{
              "outlinewidth":0,
              "ticks":""
             }
            }
           }
          ],
          "scattermapbox":[
           {
            "type":"scattermapbox",
            "marker":{
             "colorbar":{
              "outlinewidth":0,
              "ticks":""
             }
            }
           }
          ],
          "scatterternary":[
           {
            "type":"scatterternary",
            "marker":{
             "colorbar":{
              "outlinewidth":0,
              "ticks":""
             }
            }
           }
          ],
          "scattercarpet":[
           {
            "type":"scattercarpet",
            "marker":{
             "colorbar":{
              "outlinewidth":0,
              "ticks":""
             }
            }
           }
          ],
          "carpet":[
           {
            "aaxis":{
             "endlinecolor":"#2a3f5f",
             "gridcolor":"white",
             "linecolor":"white",
             "minorgridcolor":"white",
             "startlinecolor":"#2a3f5f"
            },
            "baxis":{
             "endlinecolor":"#2a3f5f",
             "gridcolor":"white",
             "linecolor":"white",
             "minorgridcolor":"white",
             "startlinecolor":"#2a3f5f"
            },
            "type":"carpet"
           }
          ],
          "table":[
           {
            "cells":{
             "fill":{
              "color":"#EBF0F8"
             },
             "line":{
              "color":"white"
             }
            },
            "header":{
             "fill":{
              "color":"#C8D4E3"
             },
             "line":{
              "color":"white"
             }
            },
            "type":"table"
           }
          ],
          "barpolar":[
           {
            "marker":{
             "line":{
              "color":"#E5ECF6",
              "width":0.5
             },
             "pattern":{
              "fillmode":"overlay",
              "size":10,
              "solidity":0.2
             }
            },
            "type":"barpolar"
           }
          ],
          "pie":[
           {
            "automargin":true,
            "type":"pie"
           }
          ]
         },
         "layout":{
          "autotypenumbers":"strict",
          "colorway":[
           "#636efa",
           "#EF553B",
           "#00cc96",
           "#ab63fa",
           "#FFA15A",
           "#19d3f3",
           "#FF6692",
           "#B6E880",
           "#FF97FF",
           "#FECB52"
          ],
          "font":{
           "color":"#2a3f5f"
          },
          "hovermode":"closest",
          "hoverlabel":{
           "align":"left"
          },
          "paper_bgcolor":"white",
          "plot_bgcolor":"#E5ECF6",
          "polar":{
           "bgcolor":"#E5ECF6",
           "angularaxis":{
            "gridcolor":"white",
            "linecolor":"white",
            "ticks":""
           },
           "radialaxis":{
            "gridcolor":"white",
            "linecolor":"white",
            "ticks":""
           }
          },
          "ternary":{
           "bgcolor":"#E5ECF6",
           "aaxis":{
            "gridcolor":"white",
            "linecolor":"white",
            "ticks":""
           },
           "baxis":{
            "gridcolor":"white",
            "linecolor":"white",
            "ticks":""
           },
           "caxis":{
            "gridcolor":"white",
            "linecolor":"white",
            "ticks":""
           }
          },
          "coloraxis":{
           "colorbar":{
            "outlinewidth":0,
            "ticks":""
           }
          },
          "colorscale":{
           "sequential":[
            [
             0,
             "#0d0887"
            ],
            [
             0.1111111111111111,
             "#46039f"
            ],
            [
             0.2222222222222222,
             "#7201a8"
            ],
            [
             0.3333333333333333,
             "#9c179e"
            ],
            [
             0.4444444444444444,
             "#bd3786"
            ],
            [
             0.5555555555555556,
             "#d8576b"
            ],
            [
             0.6666666666666666,
             "#ed7953"
            ],
            [
             0.7777777777777778,
             "#fb9f3a"
            ],
            [
             0.8888888888888888,
             "#fdca26"
            ],
            [
             1,
             "#f0f921"
            ]
           ],
           "sequentialminus":[
            [
             0,
             "#0d0887"
            ],
            [
             0.1111111111111111,
             "#46039f"
            ],
            [
             0.2222222222222222,
             "#7201a8"
            ],
            [
             0.3333333333333333,
             "#9c179e"
            ],
            [
             0.4444444444444444,
             "#bd3786"
            ],
            [
             0.5555555555555556,
             "#d8576b"
            ],
            [
             0.6666666666666666,
             "#ed7953"
            ],
            [
             0.7777777777777778,
             "#fb9f3a"
            ],
            [
             0.8888888888888888,
             "#fdca26"
            ],
            [
             1,
             "#f0f921"
            ]
           ],
           "diverging":[
            [
             0,
             "#8e0152"
            ],
            [
             0.1,
             "#c51b7d"
            ],
            [
             0.2,
             "#de77ae"
            ],
            [
             0.3,
             "#f1b6da"
            ],
            [
             0.4,
             "#fde0ef"
            ],
            [
             0.5,
             "#f7f7f7"
            ],
            [
             0.6,
             "#e6f5d0"
            ],
            [
             0.7,
             "#b8e186"
            ],
            [
             0.8,
             "#7fbc41"
            ],
            [
             0.9,
             "#4d9221"
            ],
            [
             1,
             "#276419"
            ]
           ]
          },
          "xaxis":{
           "gridcolor":"white",
           "linecolor":"white",
           "ticks":"",
           "title":{
            "standoff":15
           },
           "zerolinecolor":"white",
           "automargin":true,
           "zerolinewidth":2
          },
          "yaxis":{
           "gridcolor":"white",
           "linecolor":"white",
           "ticks":"",
           "title":{
            "standoff":15
           },
           "zerolinecolor":"white",
           "automargin":true,
           "zerolinewidth":2
          },
          "scene":{
           "xaxis":{
            "backgroundcolor":"#E5ECF6",
            "gridcolor":"white",
            "linecolor":"white",
            "showbackground":true,
            "ticks":"",
            "zerolinecolor":"white",
            "gridwidth":2
           },
           "yaxis":{
            "backgroundcolor":"#E5ECF6",
            "gridcolor":"white",
            "linecolor":"white",
            "showbackground":true,
            "ticks":"",
            "zerolinecolor":"white",
            "gridwidth":2
           },
           "zaxis":{
            "backgroundcolor":"#E5ECF6",
            "gridcolor":"white",
            "linecolor":"white",
            "showbackground":true,
            "ticks":"",
            "zerolinecolor":"white",
            "gridwidth":2
           }
          },
          "shapedefaults":{
           "line":{
            "color":"#2a3f5f"
           }
          },
          "annotationdefaults":{
           "arrowcolor":"#2a3f5f",
           "arrowhead":0,
           "arrowwidth":1
          },
          "geo":{
           "bgcolor":"white",
           "landcolor":"#E5ECF6",
           "subunitcolor":"white",
           "showland":true,
           "showlakes":true,
           "lakecolor":"white"
          },
          "title":{
           "x":0.05
          },
          "mapbox":{
           "style":"light"
          }
         }
        },
        "barmode":"group",
        "title":{
         "text":"Invested Amount in Crypto Assets"
        },
        "xaxis":{
         "title":{
          "text":"Assets"
         }
        },
        "yaxis":{
         "title":{
          "text":"Value (in EUR)"
         }
        }
       },
       "config":{
        "plotlyServerURL":"https:\/\/plot.ly"
       }
      }
     },
     "metadata":{
      
     },
     "output_type":"display_data"
    }
   ],
   "metadata":{
    "datalore":{
     "node_id":"dskP4QBgezIAkaOmw5xqEA",
     "type":"CODE",
     "hide_input_from_viewers":true,
     "hide_output_from_viewers":false,
     "report_properties":{
      "rowId":"k9y3IYmuSU8Hq9MLYuMvBw",
      "x":0,
      "relativeY":0,
      "width":1
     }
    }
   }
  },
  {
   "cell_type":"code",
   "source":[
    
   ],
   "execution_count":4,
   "outputs":[
    {
     "data":{
      "application\/datalore_metric+json":{
       "lastValue":"4361.59",
       "comparison":"WITHOUT_COMPARISON",
       "type":"PERCENT"
      }
     },
     "metadata":{
      
     },
     "output_type":"display_data"
    }
   ],
   "metadata":{
    "datalore":{
     "node_id":"auP8QivnG6jy6BX1sftY28",
     "type":"METRIC",
     "hide_input_from_viewers":false,
     "hide_output_from_viewers":false,
     "report_properties":{
      "rowId":"Q1OCEhlXSBqxqUwdRTJz4Z",
      "x":0,
      "relativeY":0,
      "width":0.33333333333333387,
      "height":8,
      "isDynamicHeight":false
     },
     "metric_state":{
      "label":"Invested amount (EUR)",
      "variable":"value",
      "type":"PERCENT",
      "comparison":"WITHOUT_COMPARISON",
      "comparisonVariable":""
     }
    }
   }
  },
  {
   "cell_type":"code",
   "source":[
    
   ],
   "execution_count":5,
   "outputs":[
    {
     "data":{
      "application\/datalore_metric+json":{
       "lastValue":"25.45",
       "comparison":"SELF",
       "type":"PERCENT"
      }
     },
     "metadata":{
      
     },
     "output_type":"display_data"
    }
   ],
   "metadata":{
    "datalore":{
     "node_id":"motHarPMEzySsPUjQfpiX0",
     "type":"METRIC",
     "hide_input_from_viewers":false,
     "hide_output_from_viewers":false,
     "report_properties":{
      "rowId":"Q1OCEhlXSBqxqUwdRTJz4Z",
      "x":0.6666666666666677,
      "relativeY":0,
      "width":0.33333333333333226,
      "height":8,
      "isDynamicHeight":false
     },
     "metric_state":{
      "label":"Profit (%)",
      "variable":"profit_per",
      "type":"PERCENT",
      "comparison":"SELF",
      "comparisonVariable":""
     }
    }
   }
  },
  {
   "cell_type":"code",
   "source":[
    
   ],
   "execution_count":6,
   "outputs":[
    {
     "data":{
      "application\/datalore_metric+json":{
       "lastValue":"884.89",
       "comparison":"SELF",
       "type":"PERCENT"
      }
     },
     "metadata":{
      
     },
     "output_type":"display_data"
    }
   ],
   "metadata":{
    "datalore":{
     "node_id":"pQvY9NunmzBpgWonO16Mo7",
     "type":"METRIC",
     "hide_input_from_viewers":false,
     "hide_output_from_viewers":false,
     "report_properties":{
      "rowId":"Q1OCEhlXSBqxqUwdRTJz4Z",
      "x":0.33333333333333387,
      "relativeY":0,
      "width":0.33333333333333387,
      "height":8,
      "isDynamicHeight":false
     },
     "metric_state":{
      "label":"Profit (EUR)",
      "variable":"profit",
      "type":"PERCENT",
      "comparison":"SELF",
      "comparisonVariable":""
     }
    }
   }
  }
 ],
 "metadata":{
  "kernelspec":{
   "display_name":"Python",
   "language":"python",
   "name":"python"
  },
  "datalore":{
   "computation_mode":"JUPYTER",
   "package_manager":"pip",
   "base_environment":"default",
   "packages":[
    
   ],
   "report_row_ids":[
    "Jg8diuR4Qd1tFhvIqrOJ3g",
    "Q1OCEhlXSBqxqUwdRTJz4Z",
    "k9y3IYmuSU8Hq9MLYuMvBw"
   ],
   "version":3
  }
 },
 "nbformat":4,
 "nbformat_minor":4
}